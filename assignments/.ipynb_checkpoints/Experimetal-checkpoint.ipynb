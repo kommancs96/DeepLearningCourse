{
 "cells": [
  {
   "cell_type": "code",
   "execution_count": 25,
   "metadata": {},
   "outputs": [
    {
     "name": "stdout",
     "output_type": "stream",
     "text": [
      "Populating the interactive namespace from numpy and matplotlib\n"
     ]
    },
    {
     "name": "stderr",
     "output_type": "stream",
     "text": [
      "/usr/local/lib/python3.6/site-packages/IPython/core/magics/pylab.py:160: UserWarning: pylab import has clobbered these variables: ['char']\n",
      "`%matplotlib` prevents importing * from pylab and numpy\n",
      "  \"\\n`%matplotlib` prevents importing * from pylab and numpy\"\n"
     ]
    }
   ],
   "source": [
    "%pylab inline"
   ]
  },
  {
   "cell_type": "code",
   "execution_count": 26,
   "metadata": {},
   "outputs": [
    {
     "data": {
      "text/plain": [
       "['Difficulties',\n",
       " 'with',\n",
       " 'the',\n",
       " 'theory',\n",
       " 'increased',\n",
       " 'through',\n",
       " 'the',\n",
       " 'end',\n",
       " 'of',\n",
       " 'the',\n",
       " '1940s',\n",
       " 'Improvements',\n",
       " 'in',\n",
       " 'microwave',\n",
       " 'technology',\n",
       " 'made',\n",
       " 'it',\n",
       " 'possible',\n",
       " 'to',\n",
       " 'take',\n",
       " 'more',\n",
       " 'precise',\n",
       " 'measurements',\n",
       " 'of',\n",
       " 'the',\n",
       " 'shift',\n",
       " 'of',\n",
       " 'the',\n",
       " 'levels',\n",
       " 'of',\n",
       " 'a',\n",
       " 'hydrogen',\n",
       " 'atom',\n",
       " '7',\n",
       " 'now',\n",
       " 'known',\n",
       " 'as',\n",
       " 'the',\n",
       " 'Lamb',\n",
       " 'shift',\n",
       " 'and',\n",
       " 'magnetic',\n",
       " 'moment',\n",
       " 'of',\n",
       " 'the',\n",
       " 'electron',\n",
       " '8',\n",
       " 'These',\n",
       " 'experiments',\n",
       " 'exposed',\n",
       " 'discrepancies',\n",
       " 'which',\n",
       " 'the',\n",
       " 'theory',\n",
       " 'was',\n",
       " 'unable',\n",
       " 'to',\n",
       " 'explain']"
      ]
     },
     "execution_count": 26,
     "metadata": {},
     "output_type": "execute_result"
    }
   ],
   "source": [
    "#split this string when non-alpahumerical character occurs\n",
    "myStr = \"Difficulties with the theory increased through the end of the 1940s. Improvements in microwave technology made it possible to take more precise measurements of the shift of the levels of a hydrogen atom,[7] now known as the Lamb shift and magnetic moment of the electron.[8] These experiments exposed discrepancies which the theory was unable to explain.\"\n",
    "\n",
    "chars = list(myStr)\n",
    "non_alphanimerics = []\n",
    "for char in chars:\n",
    "    if not char.isalnum():\n",
    "        non_alphanimerics.append(char) \n",
    "non_alphanimerics = list(set(non_alphanimerics))\n",
    "\n",
    "chars_filtered = [\" \" if c in non_alphanimerics else c for c in chars]\n",
    "\n",
    "new_str = ''.join(chars_filtered)\n",
    "tokens = new_str.split()\n",
    "tokens"
   ]
  },
  {
   "cell_type": "code",
   "execution_count": null,
   "metadata": {},
   "outputs": [],
   "source": []
  }
 ],
 "metadata": {
  "kernelspec": {
   "display_name": "Python 3",
   "language": "python",
   "name": "python3"
  },
  "language_info": {
   "codemirror_mode": {
    "name": "ipython",
    "version": 3
   },
   "file_extension": ".py",
   "mimetype": "text/x-python",
   "name": "python",
   "nbconvert_exporter": "python",
   "pygments_lexer": "ipython3",
   "version": "3.6.4"
  }
 },
 "nbformat": 4,
 "nbformat_minor": 2
}
